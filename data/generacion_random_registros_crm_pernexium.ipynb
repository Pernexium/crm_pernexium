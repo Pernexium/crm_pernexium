{
 "cells": [
  {
   "cell_type": "code",
   "execution_count": 47,
   "metadata": {},
   "outputs": [],
   "source": [
    "import pandas as pd\n",
    "from sqlalchemy import create_engine, text\n",
    "import numpy as np"
   ]
  },
  {
   "cell_type": "code",
   "execution_count": 14,
   "metadata": {},
   "outputs": [],
   "source": [
    "def get_db_engine():\n",
    "    user = \"analitica_adrian\"\n",
    "    password = \"adrian.ferrer1\"\n",
    "    host = \"pernexium-db.cfioetbrvik6.us-east-2.rds.amazonaws.com\"\n",
    "    database = \"crm_pernexium\"\n",
    "    port = 3306\n",
    "    \n",
    "    return create_engine(f'mysql+pymysql://{user}:{password}@{host}:{port}/{database}')\n",
    "\n",
    "def read_table(DB):\n",
    "    query = f\"SELECT * FROM {DB}\"\n",
    "    engine = get_db_engine()\n",
    "\n",
    "    with engine.connect() as connection:\n",
    "        return pd.read_sql(query, connection)\n",
    "    \n",
    "def get_schemma(DB):\n",
    "    engine = get_db_engine()\n",
    "    return pd.read_sql(f\"DESCRIBE {DB}\", engine)\n",
    "\n",
    "def get_schema_dict(DB):\n",
    "    return dict(get_schemma(DB)[['Field', 'Type']].values)\n",
    "\n",
    "def gen_random_data(spaces, n):\n",
    "    return pd.DataFrame(\n",
    "        {\n",
    "            key : np.random.choice(values, n)\n",
    "            for key, values in spaces.items()\n",
    "        }\n",
    "    )\n",
    "\n",
    "def append_df_to_sql(df, table):\n",
    "    return df.to_sql(table , con = get_db_engine(), if_exists = 'append', index = False)"
   ]
  },
  {
   "cell_type": "code",
   "execution_count": 3,
   "metadata": {},
   "outputs": [],
   "source": [
    "DBS = [\n",
    "    \"crm_pernexium.credits\",\n",
    "    \"crm_pernexium.campaigns\",\n",
    "    \"crm_pernexium.assignments\",\n",
    "    \"crm_pernexium.interaction_result\",\n",
    "    \"crm_pernexium.payments\",\n",
    "    \"crm_pernexium.status_updates\",\n",
    "    \"crm_pernexium.users\",\n",
    "]"
   ]
  },
  {
   "cell_type": "markdown",
   "metadata": {},
   "source": [
    "### States"
   ]
  },
  {
   "cell_type": "code",
   "execution_count": 4,
   "metadata": {},
   "outputs": [],
   "source": [
    "states = pd.read_csv('./estados.csv').set_index('clave').sort_index().reset_index(drop = True)\n",
    "states.abreviatura = states.abreviatura.str.replace('.', '').replace(' ', '')\n",
    "states = states.rename(columns = {'estado': 'name', 'abreviatura': 'code'})\n"
   ]
  },
  {
   "cell_type": "code",
   "execution_count": 24,
   "metadata": {},
   "outputs": [],
   "source": [
    "# append_df_to_sql(states, 'states')"
   ]
  },
  {
   "cell_type": "markdown",
   "metadata": {},
   "source": [
    "# Creacion de tablas\n",
    "orden:\n",
    "1. client\n",
    "    - contact_info\n",
    "2. credit\n",
    "3. assignment"
   ]
  },
  {
   "cell_type": "markdown",
   "metadata": {},
   "source": [
    "client"
   ]
  },
  {
   "cell_type": "code",
   "execution_count": 5,
   "metadata": {},
   "outputs": [
    {
     "data": {
      "text/plain": [
       "{'client_id': 'int unsigned',\n",
       " 'state_id': 'int unsigned',\n",
       " 'first_name': 'varchar(255)',\n",
       " 'middle_name': 'varchar(255)',\n",
       " 'last_name': 'varchar(255)',\n",
       " 'second_last_name': 'varchar(255)',\n",
       " 'age': 'int',\n",
       " 'rfc': 'varchar(13)',\n",
       " 'contact_probability': 'decimal(5,2)'}"
      ]
     },
     "execution_count": 5,
     "metadata": {},
     "output_type": "execute_result"
    }
   ],
   "source": [
    "client_schema = get_schema_dict('crm_pernexium.clients')\n",
    "client_schema"
   ]
  },
  {
   "cell_type": "code",
   "execution_count": 6,
   "metadata": {},
   "outputs": [],
   "source": [
    "states = read_table('crm_pernexium.states')"
   ]
  },
  {
   "cell_type": "code",
   "execution_count": 7,
   "metadata": {},
   "outputs": [],
   "source": [
    "client_spaces = dict(\n",
    "    state_id = states.state_id.values,\n",
    "    first_name = [\"Roberto\", \"Juan\", \"Alejandra\", \"Enrique\", \"Maria\", \"Pedro\", \"Luisa\"],\n",
    "    last_name = [\"Ramírez\", \"Hernández\", \"González\", \"Martínez\", \"López\", \"Pérez\", \"Gómez\"],\n",
    ")"
   ]
  },
  {
   "cell_type": "code",
   "execution_count": 8,
   "metadata": {},
   "outputs": [
    {
     "data": {
      "text/html": [
       "<div>\n",
       "<style scoped>\n",
       "    .dataframe tbody tr th:only-of-type {\n",
       "        vertical-align: middle;\n",
       "    }\n",
       "\n",
       "    .dataframe tbody tr th {\n",
       "        vertical-align: top;\n",
       "    }\n",
       "\n",
       "    .dataframe thead th {\n",
       "        text-align: right;\n",
       "    }\n",
       "</style>\n",
       "<table border=\"1\" class=\"dataframe\">\n",
       "  <thead>\n",
       "    <tr style=\"text-align: right;\">\n",
       "      <th></th>\n",
       "      <th>state_id</th>\n",
       "      <th>first_name</th>\n",
       "      <th>last_name</th>\n",
       "    </tr>\n",
       "  </thead>\n",
       "  <tbody>\n",
       "    <tr>\n",
       "      <th>0</th>\n",
       "      <td>11</td>\n",
       "      <td>Alejandra</td>\n",
       "      <td>Gómez</td>\n",
       "    </tr>\n",
       "    <tr>\n",
       "      <th>1</th>\n",
       "      <td>15</td>\n",
       "      <td>Luisa</td>\n",
       "      <td>González</td>\n",
       "    </tr>\n",
       "    <tr>\n",
       "      <th>2</th>\n",
       "      <td>7</td>\n",
       "      <td>Luisa</td>\n",
       "      <td>Pérez</td>\n",
       "    </tr>\n",
       "    <tr>\n",
       "      <th>3</th>\n",
       "      <td>28</td>\n",
       "      <td>Enrique</td>\n",
       "      <td>Hernández</td>\n",
       "    </tr>\n",
       "    <tr>\n",
       "      <th>4</th>\n",
       "      <td>7</td>\n",
       "      <td>Enrique</td>\n",
       "      <td>González</td>\n",
       "    </tr>\n",
       "    <tr>\n",
       "      <th>5</th>\n",
       "      <td>4</td>\n",
       "      <td>Roberto</td>\n",
       "      <td>Gómez</td>\n",
       "    </tr>\n",
       "    <tr>\n",
       "      <th>6</th>\n",
       "      <td>31</td>\n",
       "      <td>Maria</td>\n",
       "      <td>Martínez</td>\n",
       "    </tr>\n",
       "    <tr>\n",
       "      <th>7</th>\n",
       "      <td>15</td>\n",
       "      <td>Enrique</td>\n",
       "      <td>González</td>\n",
       "    </tr>\n",
       "    <tr>\n",
       "      <th>8</th>\n",
       "      <td>32</td>\n",
       "      <td>Maria</td>\n",
       "      <td>López</td>\n",
       "    </tr>\n",
       "    <tr>\n",
       "      <th>9</th>\n",
       "      <td>6</td>\n",
       "      <td>Luisa</td>\n",
       "      <td>Martínez</td>\n",
       "    </tr>\n",
       "  </tbody>\n",
       "</table>\n",
       "</div>"
      ],
      "text/plain": [
       "   state_id first_name  last_name\n",
       "0        11  Alejandra      Gómez\n",
       "1        15      Luisa   González\n",
       "2         7      Luisa      Pérez\n",
       "3        28    Enrique  Hernández\n",
       "4         7    Enrique   González\n",
       "5         4    Roberto      Gómez\n",
       "6        31      Maria   Martínez\n",
       "7        15    Enrique   González\n",
       "8        32      Maria      López\n",
       "9         6      Luisa   Martínez"
      ]
     },
     "execution_count": 8,
     "metadata": {},
     "output_type": "execute_result"
    }
   ],
   "source": [
    "gen_clients = gen_random_data(client_spaces, 10)\n",
    "gen_clients"
   ]
  },
  {
   "cell_type": "code",
   "execution_count": 17,
   "metadata": {},
   "outputs": [
    {
     "data": {
      "text/plain": [
       "10"
      ]
     },
     "execution_count": 17,
     "metadata": {},
     "output_type": "execute_result"
    }
   ],
   "source": [
    "# append_df_to_sql(gen_clients, 'clients')"
   ]
  },
  {
   "cell_type": "code",
   "execution_count": 15,
   "metadata": {},
   "outputs": [],
   "source": [
    "clients = read_table('crm_pernexium.clients')"
   ]
  },
  {
   "cell_type": "code",
   "execution_count": 16,
   "metadata": {},
   "outputs": [
    {
     "data": {
      "text/html": [
       "<div>\n",
       "<style scoped>\n",
       "    .dataframe tbody tr th:only-of-type {\n",
       "        vertical-align: middle;\n",
       "    }\n",
       "\n",
       "    .dataframe tbody tr th {\n",
       "        vertical-align: top;\n",
       "    }\n",
       "\n",
       "    .dataframe thead th {\n",
       "        text-align: right;\n",
       "    }\n",
       "</style>\n",
       "<table border=\"1\" class=\"dataframe\">\n",
       "  <thead>\n",
       "    <tr style=\"text-align: right;\">\n",
       "      <th></th>\n",
       "      <th>client_id</th>\n",
       "      <th>state_id</th>\n",
       "      <th>first_name</th>\n",
       "      <th>middle_name</th>\n",
       "      <th>last_name</th>\n",
       "      <th>second_last_name</th>\n",
       "      <th>age</th>\n",
       "      <th>rfc</th>\n",
       "      <th>contact_probability</th>\n",
       "      <th>primary_email</th>\n",
       "      <th>primary_tel</th>\n",
       "    </tr>\n",
       "  </thead>\n",
       "  <tbody>\n",
       "    <tr>\n",
       "      <th>0</th>\n",
       "      <td>1</td>\n",
       "      <td>11</td>\n",
       "      <td>Alejandra</td>\n",
       "      <td>None</td>\n",
       "      <td>Gómez</td>\n",
       "      <td>None</td>\n",
       "      <td>None</td>\n",
       "      <td>None</td>\n",
       "      <td>None</td>\n",
       "      <td>None</td>\n",
       "      <td>None</td>\n",
       "    </tr>\n",
       "    <tr>\n",
       "      <th>1</th>\n",
       "      <td>2</td>\n",
       "      <td>15</td>\n",
       "      <td>Luisa</td>\n",
       "      <td>None</td>\n",
       "      <td>González</td>\n",
       "      <td>None</td>\n",
       "      <td>None</td>\n",
       "      <td>None</td>\n",
       "      <td>None</td>\n",
       "      <td>None</td>\n",
       "      <td>None</td>\n",
       "    </tr>\n",
       "    <tr>\n",
       "      <th>2</th>\n",
       "      <td>3</td>\n",
       "      <td>7</td>\n",
       "      <td>Luisa</td>\n",
       "      <td>None</td>\n",
       "      <td>Pérez</td>\n",
       "      <td>None</td>\n",
       "      <td>None</td>\n",
       "      <td>None</td>\n",
       "      <td>None</td>\n",
       "      <td>None</td>\n",
       "      <td>None</td>\n",
       "    </tr>\n",
       "    <tr>\n",
       "      <th>3</th>\n",
       "      <td>4</td>\n",
       "      <td>28</td>\n",
       "      <td>Enrique</td>\n",
       "      <td>None</td>\n",
       "      <td>Hernández</td>\n",
       "      <td>None</td>\n",
       "      <td>None</td>\n",
       "      <td>None</td>\n",
       "      <td>None</td>\n",
       "      <td>None</td>\n",
       "      <td>None</td>\n",
       "    </tr>\n",
       "    <tr>\n",
       "      <th>4</th>\n",
       "      <td>5</td>\n",
       "      <td>7</td>\n",
       "      <td>Enrique</td>\n",
       "      <td>None</td>\n",
       "      <td>González</td>\n",
       "      <td>None</td>\n",
       "      <td>None</td>\n",
       "      <td>None</td>\n",
       "      <td>None</td>\n",
       "      <td>None</td>\n",
       "      <td>None</td>\n",
       "    </tr>\n",
       "    <tr>\n",
       "      <th>5</th>\n",
       "      <td>6</td>\n",
       "      <td>4</td>\n",
       "      <td>Roberto</td>\n",
       "      <td>None</td>\n",
       "      <td>Gómez</td>\n",
       "      <td>None</td>\n",
       "      <td>None</td>\n",
       "      <td>None</td>\n",
       "      <td>None</td>\n",
       "      <td>None</td>\n",
       "      <td>None</td>\n",
       "    </tr>\n",
       "    <tr>\n",
       "      <th>6</th>\n",
       "      <td>7</td>\n",
       "      <td>31</td>\n",
       "      <td>Maria</td>\n",
       "      <td>None</td>\n",
       "      <td>Martínez</td>\n",
       "      <td>None</td>\n",
       "      <td>None</td>\n",
       "      <td>None</td>\n",
       "      <td>None</td>\n",
       "      <td>None</td>\n",
       "      <td>None</td>\n",
       "    </tr>\n",
       "    <tr>\n",
       "      <th>7</th>\n",
       "      <td>8</td>\n",
       "      <td>15</td>\n",
       "      <td>Enrique</td>\n",
       "      <td>None</td>\n",
       "      <td>González</td>\n",
       "      <td>None</td>\n",
       "      <td>None</td>\n",
       "      <td>None</td>\n",
       "      <td>None</td>\n",
       "      <td>None</td>\n",
       "      <td>None</td>\n",
       "    </tr>\n",
       "    <tr>\n",
       "      <th>8</th>\n",
       "      <td>9</td>\n",
       "      <td>32</td>\n",
       "      <td>Maria</td>\n",
       "      <td>None</td>\n",
       "      <td>López</td>\n",
       "      <td>None</td>\n",
       "      <td>None</td>\n",
       "      <td>None</td>\n",
       "      <td>None</td>\n",
       "      <td>None</td>\n",
       "      <td>None</td>\n",
       "    </tr>\n",
       "    <tr>\n",
       "      <th>9</th>\n",
       "      <td>10</td>\n",
       "      <td>6</td>\n",
       "      <td>Luisa</td>\n",
       "      <td>None</td>\n",
       "      <td>Martínez</td>\n",
       "      <td>None</td>\n",
       "      <td>None</td>\n",
       "      <td>None</td>\n",
       "      <td>None</td>\n",
       "      <td>None</td>\n",
       "      <td>None</td>\n",
       "    </tr>\n",
       "  </tbody>\n",
       "</table>\n",
       "</div>"
      ],
      "text/plain": [
       "   client_id  state_id first_name middle_name  last_name second_last_name  \\\n",
       "0          1        11  Alejandra        None      Gómez             None   \n",
       "1          2        15      Luisa        None   González             None   \n",
       "2          3         7      Luisa        None      Pérez             None   \n",
       "3          4        28    Enrique        None  Hernández             None   \n",
       "4          5         7    Enrique        None   González             None   \n",
       "5          6         4    Roberto        None      Gómez             None   \n",
       "6          7        31      Maria        None   Martínez             None   \n",
       "7          8        15    Enrique        None   González             None   \n",
       "8          9        32      Maria        None      López             None   \n",
       "9         10         6      Luisa        None   Martínez             None   \n",
       "\n",
       "    age   rfc contact_probability primary_email primary_tel  \n",
       "0  None  None                None          None        None  \n",
       "1  None  None                None          None        None  \n",
       "2  None  None                None          None        None  \n",
       "3  None  None                None          None        None  \n",
       "4  None  None                None          None        None  \n",
       "5  None  None                None          None        None  \n",
       "6  None  None                None          None        None  \n",
       "7  None  None                None          None        None  \n",
       "8  None  None                None          None        None  \n",
       "9  None  None                None          None        None  "
      ]
     },
     "execution_count": 16,
     "metadata": {},
     "output_type": "execute_result"
    }
   ],
   "source": [
    "clients"
   ]
  },
  {
   "cell_type": "markdown",
   "metadata": {},
   "source": [
    "contact_infos"
   ]
  },
  {
   "cell_type": "code",
   "execution_count": 38,
   "metadata": {},
   "outputs": [
    {
     "data": {
      "text/plain": [
       "{'contact_info_id': 'int unsigned',\n",
       " 'contact_type_id': 'int unsigned',\n",
       " 'client_id': 'int unsigned',\n",
       " 'info': 'varchar(255)'}"
      ]
     },
     "execution_count": 38,
     "metadata": {},
     "output_type": "execute_result"
    }
   ],
   "source": [
    "contact_infos_squema = get_schema_dict('crm_pernexium.contact_infos')\n",
    "contact_infos_squema"
   ]
  },
  {
   "cell_type": "code",
   "execution_count": 26,
   "metadata": {},
   "outputs": [
    {
     "data": {
      "text/html": [
       "<div>\n",
       "<style scoped>\n",
       "    .dataframe tbody tr th:only-of-type {\n",
       "        vertical-align: middle;\n",
       "    }\n",
       "\n",
       "    .dataframe tbody tr th {\n",
       "        vertical-align: top;\n",
       "    }\n",
       "\n",
       "    .dataframe thead th {\n",
       "        text-align: right;\n",
       "    }\n",
       "</style>\n",
       "<table border=\"1\" class=\"dataframe\">\n",
       "  <thead>\n",
       "    <tr style=\"text-align: right;\">\n",
       "      <th></th>\n",
       "      <th>contact_type_id</th>\n",
       "      <th>parent_contact_type_id</th>\n",
       "      <th>name</th>\n",
       "    </tr>\n",
       "  </thead>\n",
       "  <tbody>\n",
       "    <tr>\n",
       "      <th>0</th>\n",
       "      <td>1</td>\n",
       "      <td>NaN</td>\n",
       "      <td>Teléfono</td>\n",
       "    </tr>\n",
       "    <tr>\n",
       "      <th>1</th>\n",
       "      <td>6</td>\n",
       "      <td>1.0</td>\n",
       "      <td>Whatsapp</td>\n",
       "    </tr>\n",
       "    <tr>\n",
       "      <th>2</th>\n",
       "      <td>7</td>\n",
       "      <td>NaN</td>\n",
       "      <td>Email</td>\n",
       "    </tr>\n",
       "  </tbody>\n",
       "</table>\n",
       "</div>"
      ],
      "text/plain": [
       "   contact_type_id  parent_contact_type_id      name\n",
       "0                1                     NaN  Teléfono\n",
       "1                6                     1.0  Whatsapp\n",
       "2                7                     NaN     Email"
      ]
     },
     "execution_count": 26,
     "metadata": {},
     "output_type": "execute_result"
    }
   ],
   "source": [
    "contact_types = read_table('crm_pernexium.contact_types')\n",
    "contact_types"
   ]
  },
  {
   "cell_type": "code",
   "execution_count": null,
   "metadata": {},
   "outputs": [],
   "source": [
    "EMAIL_ID = 7\n",
    "TEL_ID = 6"
   ]
  },
  {
   "cell_type": "code",
   "execution_count": 36,
   "metadata": {},
   "outputs": [],
   "source": [
    "gen_contact_infos = []\n",
    "for idx, client in clients.iterrows(): \n",
    "    email = dict(\n",
    "        client_id = client['client_id'],\n",
    "        info = f\"{client['first_name'].lower()}.{client['last_name'].lower()}@gmail.com\",\n",
    "        contact_type_id = EMAIL_ID # MANUAL \n",
    "    )\n",
    "\n",
    "    tel = dict(\n",
    "        client_id = client['client_id'],\n",
    "        info = f\"55{np.random.randint(10000000, 99999999)}\",\n",
    "        contact_type_id = TEL_ID # MANUAL\n",
    "    )\n",
    "\n",
    "    gen_contact_infos.append(email)\n",
    "    gen_contact_infos.append(tel)\n",
    "\n",
    "gen_contact_infos = pd.DataFrame(gen_contact_infos)"
   ]
  },
  {
   "cell_type": "code",
   "execution_count": 37,
   "metadata": {},
   "outputs": [
    {
     "data": {
      "text/plain": [
       "20"
      ]
     },
     "execution_count": 37,
     "metadata": {},
     "output_type": "execute_result"
    }
   ],
   "source": [
    "# append_df_to_sql(gen_contact_infos, 'contact_infos')"
   ]
  },
  {
   "cell_type": "code",
   "execution_count": 41,
   "metadata": {},
   "outputs": [
    {
     "data": {
      "text/html": [
       "<div>\n",
       "<style scoped>\n",
       "    .dataframe tbody tr th:only-of-type {\n",
       "        vertical-align: middle;\n",
       "    }\n",
       "\n",
       "    .dataframe tbody tr th {\n",
       "        vertical-align: top;\n",
       "    }\n",
       "\n",
       "    .dataframe thead th {\n",
       "        text-align: right;\n",
       "    }\n",
       "</style>\n",
       "<table border=\"1\" class=\"dataframe\">\n",
       "  <thead>\n",
       "    <tr style=\"text-align: right;\">\n",
       "      <th></th>\n",
       "      <th>contact_info_id</th>\n",
       "      <th>contact_type_id</th>\n",
       "      <th>client_id</th>\n",
       "      <th>info</th>\n",
       "    </tr>\n",
       "  </thead>\n",
       "  <tbody>\n",
       "    <tr>\n",
       "      <th>0</th>\n",
       "      <td>1</td>\n",
       "      <td>7</td>\n",
       "      <td>1</td>\n",
       "      <td>alejandra.gómez@gmail.com</td>\n",
       "    </tr>\n",
       "    <tr>\n",
       "      <th>1</th>\n",
       "      <td>2</td>\n",
       "      <td>6</td>\n",
       "      <td>1</td>\n",
       "      <td>5578444618</td>\n",
       "    </tr>\n",
       "    <tr>\n",
       "      <th>2</th>\n",
       "      <td>3</td>\n",
       "      <td>7</td>\n",
       "      <td>2</td>\n",
       "      <td>luisa.gonzález@gmail.com</td>\n",
       "    </tr>\n",
       "    <tr>\n",
       "      <th>3</th>\n",
       "      <td>4</td>\n",
       "      <td>6</td>\n",
       "      <td>2</td>\n",
       "      <td>5538705928</td>\n",
       "    </tr>\n",
       "    <tr>\n",
       "      <th>4</th>\n",
       "      <td>5</td>\n",
       "      <td>7</td>\n",
       "      <td>3</td>\n",
       "      <td>luisa.pérez@gmail.com</td>\n",
       "    </tr>\n",
       "  </tbody>\n",
       "</table>\n",
       "</div>"
      ],
      "text/plain": [
       "   contact_info_id  contact_type_id  client_id                       info\n",
       "0                1                7          1  alejandra.gómez@gmail.com\n",
       "1                2                6          1                 5578444618\n",
       "2                3                7          2   luisa.gonzález@gmail.com\n",
       "3                4                6          2                 5538705928\n",
       "4                5                7          3      luisa.pérez@gmail.com"
      ]
     },
     "execution_count": 41,
     "metadata": {},
     "output_type": "execute_result"
    }
   ],
   "source": [
    "contact_infos = read_table('crm_pernexium.contact_infos')\n",
    "contact_infos.head()"
   ]
  },
  {
   "cell_type": "code",
   "execution_count": 42,
   "metadata": {},
   "outputs": [],
   "source": [
    "UPDATE_CLIENT_PRIMARY_CONTACT_INFO  = \\\n",
    "\"\"\"\n",
    "UPDATE crm_pernexium.clients\n",
    "SET crm_pernexium.clients.primary_email = {email_id}, crm_pernexium.clients.primary_tel = {tel_id}\n",
    "WHERE crm_pernexium.clients.client_id = {client_id}\n",
    ";\n",
    "\"\"\""
   ]
  },
  {
   "cell_type": "code",
   "execution_count": 49,
   "metadata": {},
   "outputs": [],
   "source": [
    "# for idx, client in clients.iterrows():\n",
    "#     email_id = contact_infos[(contact_infos.client_id == client['client_id']) & (contact_infos.contact_type_id == 7)].contact_info_id.values[0]\n",
    "#     tel_id = contact_infos[(contact_infos.client_id == client['client_id']) & (contact_infos.contact_type_id == 6)].contact_info_id.values[0]\n",
    "\n",
    "#     query = text(UPDATE_CLIENT_PRIMARY_CONTACT_INFO.format(email_id = email_id, tel_id = tel_id, client_id = client['client_id']))\n",
    "#     with get_db_engine().connect() as connection:\n",
    "#         connection.execute(query)\n",
    "#         connection.commit()"
   ]
  },
  {
   "cell_type": "markdown",
   "metadata": {},
   "source": [
    "credit"
   ]
  },
  {
   "cell_type": "code",
   "execution_count": 18,
   "metadata": {},
   "outputs": [
    {
     "data": {
      "text/plain": [
       "{'credit_id': 'int unsigned',\n",
       " 'client_id': 'int unsigned',\n",
       " 'product_id': 'int unsigned',\n",
       " 'segment_id': 'int unsigned',\n",
       " 'status': 'tinyint(1)',\n",
       " 'past_due_start': 'int',\n",
       " 'current_past_due': 'int',\n",
       " 'late_interest': 'decimal(10,2)',\n",
       " 'opening_date_us': 'date',\n",
       " 'last_payment_date_us': 'date',\n",
       " 'total_past_due_balance': 'decimal(10,2)',\n",
       " 'current_balance': 'decimal(10,2)',\n",
       " 'balance_to_settle': 'decimal(10,2)',\n",
       " 'interest_balance': 'decimal(10,2)',\n",
       " 'iva_balance': 'decimal(10,2)',\n",
       " 'payment_probability': 'decimal(5,2)',\n",
       " 'created_at': 'datetime',\n",
       " 'updated_at': 'datetime'}"
      ]
     },
     "execution_count": 18,
     "metadata": {},
     "output_type": "execute_result"
    }
   ],
   "source": [
    "credit_squema = get_schema_dict('crm_pernexium.credits')\n",
    "credit_squema"
   ]
  },
  {
   "cell_type": "code",
   "execution_count": 19,
   "metadata": {},
   "outputs": [],
   "source": [
    "clients = read_table('crm_pernexium.clients')\n",
    "products = read_table('crm_pernexium.products')\n",
    "segments = read_table('crm_pernexium.segments')"
   ]
  },
  {
   "cell_type": "code",
   "execution_count": 20,
   "metadata": {},
   "outputs": [],
   "source": [
    "credit_spaces = dict(\n",
    "    client_id = clients.client_id.values,\n",
    "    product_id  = products.product_id.values,\n",
    "    segment_id = segments.segment_id.values,\n",
    "    current_balance = np.arange(100, 10000, 100),\n",
    "    balance_to_settle = np.arange(100, 10000, 100),\n",
    ")"
   ]
  },
  {
   "cell_type": "code",
   "execution_count": 24,
   "metadata": {},
   "outputs": [
    {
     "data": {
      "text/html": [
       "<div>\n",
       "<style scoped>\n",
       "    .dataframe tbody tr th:only-of-type {\n",
       "        vertical-align: middle;\n",
       "    }\n",
       "\n",
       "    .dataframe tbody tr th {\n",
       "        vertical-align: top;\n",
       "    }\n",
       "\n",
       "    .dataframe thead th {\n",
       "        text-align: right;\n",
       "    }\n",
       "</style>\n",
       "<table border=\"1\" class=\"dataframe\">\n",
       "  <thead>\n",
       "    <tr style=\"text-align: right;\">\n",
       "      <th></th>\n",
       "      <th>client_id</th>\n",
       "      <th>product_id</th>\n",
       "      <th>segment_id</th>\n",
       "      <th>current_balance</th>\n",
       "      <th>balance_to_settle</th>\n",
       "    </tr>\n",
       "  </thead>\n",
       "  <tbody>\n",
       "    <tr>\n",
       "      <th>0</th>\n",
       "      <td>6</td>\n",
       "      <td>3</td>\n",
       "      <td>3</td>\n",
       "      <td>5400</td>\n",
       "      <td>3900</td>\n",
       "    </tr>\n",
       "    <tr>\n",
       "      <th>1</th>\n",
       "      <td>2</td>\n",
       "      <td>2</td>\n",
       "      <td>6</td>\n",
       "      <td>500</td>\n",
       "      <td>7600</td>\n",
       "    </tr>\n",
       "    <tr>\n",
       "      <th>2</th>\n",
       "      <td>6</td>\n",
       "      <td>1</td>\n",
       "      <td>6</td>\n",
       "      <td>1000</td>\n",
       "      <td>200</td>\n",
       "    </tr>\n",
       "    <tr>\n",
       "      <th>3</th>\n",
       "      <td>1</td>\n",
       "      <td>3</td>\n",
       "      <td>5</td>\n",
       "      <td>8400</td>\n",
       "      <td>4600</td>\n",
       "    </tr>\n",
       "    <tr>\n",
       "      <th>4</th>\n",
       "      <td>5</td>\n",
       "      <td>4</td>\n",
       "      <td>6</td>\n",
       "      <td>2400</td>\n",
       "      <td>4700</td>\n",
       "    </tr>\n",
       "    <tr>\n",
       "      <th>5</th>\n",
       "      <td>2</td>\n",
       "      <td>2</td>\n",
       "      <td>3</td>\n",
       "      <td>700</td>\n",
       "      <td>5200</td>\n",
       "    </tr>\n",
       "    <tr>\n",
       "      <th>6</th>\n",
       "      <td>3</td>\n",
       "      <td>1</td>\n",
       "      <td>6</td>\n",
       "      <td>6900</td>\n",
       "      <td>2500</td>\n",
       "    </tr>\n",
       "    <tr>\n",
       "      <th>7</th>\n",
       "      <td>9</td>\n",
       "      <td>3</td>\n",
       "      <td>5</td>\n",
       "      <td>6700</td>\n",
       "      <td>2600</td>\n",
       "    </tr>\n",
       "    <tr>\n",
       "      <th>8</th>\n",
       "      <td>7</td>\n",
       "      <td>4</td>\n",
       "      <td>3</td>\n",
       "      <td>5100</td>\n",
       "      <td>7000</td>\n",
       "    </tr>\n",
       "    <tr>\n",
       "      <th>9</th>\n",
       "      <td>8</td>\n",
       "      <td>4</td>\n",
       "      <td>3</td>\n",
       "      <td>9900</td>\n",
       "      <td>5700</td>\n",
       "    </tr>\n",
       "  </tbody>\n",
       "</table>\n",
       "</div>"
      ],
      "text/plain": [
       "   client_id  product_id  segment_id  current_balance  balance_to_settle\n",
       "0          6           3           3             5400               3900\n",
       "1          2           2           6              500               7600\n",
       "2          6           1           6             1000                200\n",
       "3          1           3           5             8400               4600\n",
       "4          5           4           6             2400               4700\n",
       "5          2           2           3              700               5200\n",
       "6          3           1           6             6900               2500\n",
       "7          9           3           5             6700               2600\n",
       "8          7           4           3             5100               7000\n",
       "9          8           4           3             9900               5700"
      ]
     },
     "execution_count": 24,
     "metadata": {},
     "output_type": "execute_result"
    }
   ],
   "source": [
    "gen_credits = gen_random_data(credit_spaces, 10)\n",
    "gen_credits"
   ]
  },
  {
   "cell_type": "code",
   "execution_count": 25,
   "metadata": {},
   "outputs": [
    {
     "data": {
      "text/plain": [
       "10"
      ]
     },
     "execution_count": 25,
     "metadata": {},
     "output_type": "execute_result"
    }
   ],
   "source": [
    "# append_df_to_sql(gen_credits, 'credits')"
   ]
  },
  {
   "cell_type": "markdown",
   "metadata": {},
   "source": [
    "assignment"
   ]
  },
  {
   "cell_type": "code",
   "execution_count": 29,
   "metadata": {},
   "outputs": [],
   "source": [
    "users = read_table('crm_pernexium.users')\n",
    "credits = read_table('crm_pernexium.credits')"
   ]
  },
  {
   "cell_type": "code",
   "execution_count": 30,
   "metadata": {},
   "outputs": [
    {
     "data": {
      "text/plain": [
       "{'assignment_id': 'int unsigned',\n",
       " 'user_id': 'int unsigned',\n",
       " 'credit_id': 'int unsigned',\n",
       " 'created_at': 'timestamp',\n",
       " 'reference': 'varchar(45)'}"
      ]
     },
     "execution_count": 30,
     "metadata": {},
     "output_type": "execute_result"
    }
   ],
   "source": [
    "assignments_schema = get_schema_dict('crm_pernexium.assignments')\n",
    "assignments_schema"
   ]
  },
  {
   "cell_type": "code",
   "execution_count": 41,
   "metadata": {},
   "outputs": [],
   "source": [
    "assignments_spaces = dict(\n",
    "    user_id = users.user_id.values,\n",
    "    credit_id = credits.credit_id.values,\n",
    ")"
   ]
  },
  {
   "cell_type": "code",
   "execution_count": 42,
   "metadata": {},
   "outputs": [
    {
     "data": {
      "text/html": [
       "<div>\n",
       "<style scoped>\n",
       "    .dataframe tbody tr th:only-of-type {\n",
       "        vertical-align: middle;\n",
       "    }\n",
       "\n",
       "    .dataframe tbody tr th {\n",
       "        vertical-align: top;\n",
       "    }\n",
       "\n",
       "    .dataframe thead th {\n",
       "        text-align: right;\n",
       "    }\n",
       "</style>\n",
       "<table border=\"1\" class=\"dataframe\">\n",
       "  <thead>\n",
       "    <tr style=\"text-align: right;\">\n",
       "      <th></th>\n",
       "      <th>user_id</th>\n",
       "      <th>credit_id</th>\n",
       "    </tr>\n",
       "  </thead>\n",
       "  <tbody>\n",
       "    <tr>\n",
       "      <th>0</th>\n",
       "      <td>12</td>\n",
       "      <td>5</td>\n",
       "    </tr>\n",
       "    <tr>\n",
       "      <th>1</th>\n",
       "      <td>12</td>\n",
       "      <td>4</td>\n",
       "    </tr>\n",
       "    <tr>\n",
       "      <th>2</th>\n",
       "      <td>12</td>\n",
       "      <td>7</td>\n",
       "    </tr>\n",
       "    <tr>\n",
       "      <th>4</th>\n",
       "      <td>12</td>\n",
       "      <td>2</td>\n",
       "    </tr>\n",
       "    <tr>\n",
       "      <th>6</th>\n",
       "      <td>12</td>\n",
       "      <td>6</td>\n",
       "    </tr>\n",
       "    <tr>\n",
       "      <th>7</th>\n",
       "      <td>12</td>\n",
       "      <td>9</td>\n",
       "    </tr>\n",
       "  </tbody>\n",
       "</table>\n",
       "</div>"
      ],
      "text/plain": [
       "   user_id  credit_id\n",
       "0       12          5\n",
       "1       12          4\n",
       "2       12          7\n",
       "4       12          2\n",
       "6       12          6\n",
       "7       12          9"
      ]
     },
     "execution_count": 42,
     "metadata": {},
     "output_type": "execute_result"
    }
   ],
   "source": [
    "gen_assignments = gen_random_data(assignments_spaces, 10)\n",
    "gen_assignments.drop_duplicates(subset = ['credit_id'], inplace = True)\n",
    "gen_assignments"
   ]
  },
  {
   "cell_type": "code",
   "execution_count": 43,
   "metadata": {},
   "outputs": [
    {
     "data": {
      "text/plain": [
       "6"
      ]
     },
     "execution_count": 43,
     "metadata": {},
     "output_type": "execute_result"
    }
   ],
   "source": [
    "# append_df_to_sql(gen_assignments, 'assignments')"
   ]
  },
  {
   "cell_type": "markdown",
   "metadata": {},
   "source": [
    "# Payments"
   ]
  },
  {
   "cell_type": "code",
   "execution_count": 5,
   "metadata": {},
   "outputs": [],
   "source": [
    "credits = read_table('crm_pernexium.credits')"
   ]
  },
  {
   "cell_type": "code",
   "execution_count": 6,
   "metadata": {},
   "outputs": [
    {
     "data": {
      "text/plain": [
       "{'payment_id': 'int unsigned',\n",
       " 'credit_id': 'int unsigned',\n",
       " 'payment_amount': 'decimal(10,2)',\n",
       " 'payment_date': 'date',\n",
       " 'timestamp': 'datetime'}"
      ]
     },
     "execution_count": 6,
     "metadata": {},
     "output_type": "execute_result"
    }
   ],
   "source": [
    "payments_squema = get_schema_dict('crm_pernexium.payments')\n",
    "payments_squema"
   ]
  },
  {
   "cell_type": "code",
   "execution_count": 7,
   "metadata": {},
   "outputs": [],
   "source": [
    "payment_spaces = dict(\n",
    "    credit_id = credits.credit_id.values,\n",
    "    payment_amount = np.arange(100, 10000, 100)\n",
    ")"
   ]
  },
  {
   "cell_type": "code",
   "execution_count": 9,
   "metadata": {},
   "outputs": [
    {
     "data": {
      "text/html": [
       "<div>\n",
       "<style scoped>\n",
       "    .dataframe tbody tr th:only-of-type {\n",
       "        vertical-align: middle;\n",
       "    }\n",
       "\n",
       "    .dataframe tbody tr th {\n",
       "        vertical-align: top;\n",
       "    }\n",
       "\n",
       "    .dataframe thead th {\n",
       "        text-align: right;\n",
       "    }\n",
       "</style>\n",
       "<table border=\"1\" class=\"dataframe\">\n",
       "  <thead>\n",
       "    <tr style=\"text-align: right;\">\n",
       "      <th></th>\n",
       "      <th>credit_id</th>\n",
       "      <th>payment_amount</th>\n",
       "    </tr>\n",
       "  </thead>\n",
       "  <tbody>\n",
       "    <tr>\n",
       "      <th>0</th>\n",
       "      <td>5</td>\n",
       "      <td>8700</td>\n",
       "    </tr>\n",
       "    <tr>\n",
       "      <th>1</th>\n",
       "      <td>8</td>\n",
       "      <td>9900</td>\n",
       "    </tr>\n",
       "    <tr>\n",
       "      <th>2</th>\n",
       "      <td>4</td>\n",
       "      <td>1000</td>\n",
       "    </tr>\n",
       "    <tr>\n",
       "      <th>3</th>\n",
       "      <td>9</td>\n",
       "      <td>9900</td>\n",
       "    </tr>\n",
       "    <tr>\n",
       "      <th>5</th>\n",
       "      <td>3</td>\n",
       "      <td>7400</td>\n",
       "    </tr>\n",
       "    <tr>\n",
       "      <th>6</th>\n",
       "      <td>7</td>\n",
       "      <td>1400</td>\n",
       "    </tr>\n",
       "  </tbody>\n",
       "</table>\n",
       "</div>"
      ],
      "text/plain": [
       "   credit_id  payment_amount\n",
       "0          5            8700\n",
       "1          8            9900\n",
       "2          4            1000\n",
       "3          9            9900\n",
       "5          3            7400\n",
       "6          7            1400"
      ]
     },
     "execution_count": 9,
     "metadata": {},
     "output_type": "execute_result"
    }
   ],
   "source": [
    "gen_payments = gen_random_data(payment_spaces, 10)\n",
    "gen_payments.drop_duplicates(subset = ['credit_id'], inplace = True)\n",
    "gen_payments"
   ]
  },
  {
   "cell_type": "code",
   "execution_count": 10,
   "metadata": {},
   "outputs": [
    {
     "data": {
      "text/plain": [
       "6"
      ]
     },
     "execution_count": 10,
     "metadata": {},
     "output_type": "execute_result"
    }
   ],
   "source": [
    "# append_df_to_sql(gen_payments, 'payments')"
   ]
  },
  {
   "cell_type": "markdown",
   "metadata": {},
   "source": [
    "# Interactions"
   ]
  },
  {
   "cell_type": "code",
   "execution_count": 4,
   "metadata": {},
   "outputs": [],
   "source": [
    "contact_status = read_table('crm_pernexium.contact_status')\n",
    "sub_contact_status = contact_status[contact_status.parent_contact_status_id.notnull()]\n",
    "contact_status = contact_status[contact_status.parent_contact_status_id.isnull()]\n",
    "\n",
    "assignments = read_table('crm_pernexium.assignments')"
   ]
  },
  {
   "cell_type": "code",
   "execution_count": 5,
   "metadata": {},
   "outputs": [
    {
     "data": {
      "text/plain": [
       "{'interaction_id': 'int unsigned',\n",
       " 'assignment_id': 'int unsigned',\n",
       " 'contact_status_id': 'int unsigned',\n",
       " 'contact_substatus_id': 'int unsigned',\n",
       " 'contact_date': 'date',\n",
       " 'comments': 'text',\n",
       " 'payment_promise_date': 'date',\n",
       " 'payment_promise_amount': 'float',\n",
       " 'call_later_date': 'datetime'}"
      ]
     },
     "execution_count": 5,
     "metadata": {},
     "output_type": "execute_result"
    }
   ],
   "source": [
    "interactions_squema = get_schema_dict('crm_pernexium.interaction_result')\n",
    "interactions_squema"
   ]
  },
  {
   "cell_type": "code",
   "execution_count": 9,
   "metadata": {},
   "outputs": [],
   "source": [
    "interactions_spaces = dict(\n",
    "    assignment_id = assignments.assignment_id.values,\n",
    "    contact_substatus_id = sub_contact_status.contact_status_id.values,\n",
    "    comments = [\"COMENTARIO\"]\n",
    ")"
   ]
  },
  {
   "cell_type": "code",
   "execution_count": 10,
   "metadata": {},
   "outputs": [
    {
     "data": {
      "text/html": [
       "<div>\n",
       "<style scoped>\n",
       "    .dataframe tbody tr th:only-of-type {\n",
       "        vertical-align: middle;\n",
       "    }\n",
       "\n",
       "    .dataframe tbody tr th {\n",
       "        vertical-align: top;\n",
       "    }\n",
       "\n",
       "    .dataframe thead th {\n",
       "        text-align: right;\n",
       "    }\n",
       "</style>\n",
       "<table border=\"1\" class=\"dataframe\">\n",
       "  <thead>\n",
       "    <tr style=\"text-align: right;\">\n",
       "      <th></th>\n",
       "      <th>assignment_id</th>\n",
       "      <th>contact_substatus_id</th>\n",
       "      <th>comments</th>\n",
       "      <th>contact_status_id</th>\n",
       "    </tr>\n",
       "  </thead>\n",
       "  <tbody>\n",
       "    <tr>\n",
       "      <th>0</th>\n",
       "      <td>3</td>\n",
       "      <td>20</td>\n",
       "      <td>COMENTARIO</td>\n",
       "      <td>2.0</td>\n",
       "    </tr>\n",
       "    <tr>\n",
       "      <th>1</th>\n",
       "      <td>4</td>\n",
       "      <td>4</td>\n",
       "      <td>COMENTARIO</td>\n",
       "      <td>1.0</td>\n",
       "    </tr>\n",
       "    <tr>\n",
       "      <th>2</th>\n",
       "      <td>1</td>\n",
       "      <td>9</td>\n",
       "      <td>COMENTARIO</td>\n",
       "      <td>1.0</td>\n",
       "    </tr>\n",
       "    <tr>\n",
       "      <th>3</th>\n",
       "      <td>4</td>\n",
       "      <td>20</td>\n",
       "      <td>COMENTARIO</td>\n",
       "      <td>2.0</td>\n",
       "    </tr>\n",
       "    <tr>\n",
       "      <th>4</th>\n",
       "      <td>3</td>\n",
       "      <td>7</td>\n",
       "      <td>COMENTARIO</td>\n",
       "      <td>1.0</td>\n",
       "    </tr>\n",
       "    <tr>\n",
       "      <th>5</th>\n",
       "      <td>2</td>\n",
       "      <td>4</td>\n",
       "      <td>COMENTARIO</td>\n",
       "      <td>1.0</td>\n",
       "    </tr>\n",
       "    <tr>\n",
       "      <th>6</th>\n",
       "      <td>3</td>\n",
       "      <td>12</td>\n",
       "      <td>COMENTARIO</td>\n",
       "      <td>1.0</td>\n",
       "    </tr>\n",
       "    <tr>\n",
       "      <th>7</th>\n",
       "      <td>4</td>\n",
       "      <td>15</td>\n",
       "      <td>COMENTARIO</td>\n",
       "      <td>1.0</td>\n",
       "    </tr>\n",
       "    <tr>\n",
       "      <th>8</th>\n",
       "      <td>5</td>\n",
       "      <td>20</td>\n",
       "      <td>COMENTARIO</td>\n",
       "      <td>2.0</td>\n",
       "    </tr>\n",
       "    <tr>\n",
       "      <th>9</th>\n",
       "      <td>6</td>\n",
       "      <td>17</td>\n",
       "      <td>COMENTARIO</td>\n",
       "      <td>2.0</td>\n",
       "    </tr>\n",
       "  </tbody>\n",
       "</table>\n",
       "</div>"
      ],
      "text/plain": [
       "   assignment_id  contact_substatus_id    comments  contact_status_id\n",
       "0              3                    20  COMENTARIO                2.0\n",
       "1              4                     4  COMENTARIO                1.0\n",
       "2              1                     9  COMENTARIO                1.0\n",
       "3              4                    20  COMENTARIO                2.0\n",
       "4              3                     7  COMENTARIO                1.0\n",
       "5              2                     4  COMENTARIO                1.0\n",
       "6              3                    12  COMENTARIO                1.0\n",
       "7              4                    15  COMENTARIO                1.0\n",
       "8              5                    20  COMENTARIO                2.0\n",
       "9              6                    17  COMENTARIO                2.0"
      ]
     },
     "execution_count": 10,
     "metadata": {},
     "output_type": "execute_result"
    }
   ],
   "source": [
    "gen_interactions = gen_random_data(interactions_spaces, 10)\n",
    "\n",
    "gen_interactions['contact_status_id'] = \\\n",
    "    gen_interactions.contact_substatus_id.apply(\n",
    "        lambda x: sub_contact_status[sub_contact_status.contact_status_id == x].parent_contact_status_id.values[0]\n",
    "    )\n",
    "\n",
    "gen_interactions"
   ]
  },
  {
   "cell_type": "code",
   "execution_count": 12,
   "metadata": {},
   "outputs": [
    {
     "data": {
      "text/plain": [
       "10"
      ]
     },
     "execution_count": 12,
     "metadata": {},
     "output_type": "execute_result"
    }
   ],
   "source": [
    "# append_df_to_sql(gen_interactions, 'interaction_result')"
   ]
  },
  {
   "cell_type": "code",
   "execution_count": null,
   "metadata": {},
   "outputs": [],
   "source": []
  }
 ],
 "metadata": {
  "kernelspec": {
   "display_name": "base",
   "language": "python",
   "name": "python3"
  },
  "language_info": {
   "codemirror_mode": {
    "name": "ipython",
    "version": 3
   },
   "file_extension": ".py",
   "mimetype": "text/x-python",
   "name": "python",
   "nbconvert_exporter": "python",
   "pygments_lexer": "ipython3",
   "version": "3.11.4"
  }
 },
 "nbformat": 4,
 "nbformat_minor": 2
}
